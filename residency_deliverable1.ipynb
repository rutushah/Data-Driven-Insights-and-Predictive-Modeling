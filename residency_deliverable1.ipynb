{
  "cells": [
    {
      "cell_type": "markdown",
      "metadata": {},
      "source": [
        "# Residency Project Deliverable: 1\n",
        "# Rutu Shah\n",
        "# Nischal Joshi\n",
        "# Murali Krishna\n",
        "# Santhosh Ramachandran "
      ]
    },
    {
      "cell_type": "code",
      "execution_count": 2,
      "metadata": {
        "colab": {
          "base_uri": "https://localhost:8080/",
          "height": 74
        },
        "id": "YXAs8SoBiujn",
        "outputId": "ba0beb94-a355-4592-daac-fc7161c2bf5c"
      },
      "outputs": [],
      "source": [
        "import pandas as pd\n"
      ]
    },
    {
      "cell_type": "code",
      "execution_count": 8,
      "metadata": {
        "colab": {
          "base_uri": "https://localhost:8080/"
        },
        "id": "gUA5roh5i0oT",
        "outputId": "a8b5e292-9aff-450c-d074-f1fcb73bc794"
      },
      "outputs": [],
      "source": [
        "df = pd.read_csv('The Titanic dataset.csv')"
      ]
    },
    {
      "cell_type": "code",
      "execution_count": 9,
      "metadata": {},
      "outputs": [
        {
          "name": "stdout",
          "output_type": "stream",
          "text": [
            "Printing head()\n",
            "    sn  pclass  survived                         Name  gender  age  family  \\\n",
            "0   1       3         0                  Mr. Anthony    male   42     0.0   \n",
            "1   1       3         0                  Mr. Anthony    male   42     0.0   \n",
            "2   2       3         0        Master. Eugene Joseph    male    ?     2.0   \n",
            "3   3       2         0  Abbott, Mr. Rossmore Edward     NaN  NaN     2.0   \n",
            "4   4       3         1  Abbott, Mr. Rossmore Edward  female   35     2.0   \n",
            "\n",
            "    fare embarked       date  \n",
            "0   7.55      NaN  01-Jan-90  \n",
            "1   7.55      NaN  01-Jan-90  \n",
            "2  20.25        S  02-Jan-90  \n",
            "3     **        S  03-Jan-90  \n",
            "4  20.25        S  04-Jan-90  \n",
            "Printing describe()\n",
            "                 sn       pclass     survived       family\n",
            "count  1301.000000  1301.000000  1301.000000  1299.000000\n",
            "mean    650.000769     2.289777     0.384320     0.889915\n",
            "std     375.709330     0.838384     0.486621     1.588008\n",
            "min       1.000000     1.000000     0.000000     0.000000\n",
            "25%     325.000000     2.000000     0.000000     0.000000\n",
            "50%     650.000000     3.000000     0.000000     0.000000\n",
            "75%     975.000000     3.000000     1.000000     1.000000\n",
            "max    1300.000000     3.000000     1.000000    10.000000\n",
            "<class 'pandas.core.frame.DataFrame'>\n",
            "RangeIndex: 1301 entries, 0 to 1300\n",
            "Data columns (total 10 columns):\n",
            " #   Column    Non-Null Count  Dtype  \n",
            "---  ------    --------------  -----  \n",
            " 0   sn        1301 non-null   int64  \n",
            " 1   pclass    1301 non-null   int64  \n",
            " 2   survived  1301 non-null   int64  \n",
            " 3   Name      1301 non-null   object \n",
            " 4   gender    1300 non-null   object \n",
            " 5   age       1044 non-null   object \n",
            " 6   family    1299 non-null   float64\n",
            " 7   fare      1299 non-null   object \n",
            " 8   embarked  1295 non-null   object \n",
            " 9   date      1301 non-null   object \n",
            "dtypes: float64(1), int64(3), object(6)\n",
            "memory usage: 101.8+ KB\n",
            "Printing info()\n",
            " None\n"
          ]
        }
      ],
      "source": [
        "\n",
        "\n",
        "#explore the dataset\n",
        "print(\"Printing head()\\n\", df.head())\n",
        "print(\"Printing describe()\\n\", df.describe())\n",
        "print(\"Printing info()\\n\", df.info())\n"
      ]
    },
    {
      "cell_type": "code",
      "execution_count": 11,
      "metadata": {
        "colab": {
          "base_uri": "https://localhost:8080/"
        },
        "id": "hv_Dy_YNi81j",
        "outputId": "f7d2c15b-3817-4f58-957f-fcc58fc08496"
      },
      "outputs": [
        {
          "name": "stdout",
          "output_type": "stream",
          "text": [
            "<bound method DataFrame.isnull of         sn  pclass  survived                                    Name  gender  \\\n",
            "0        1       3         0                             Mr. Anthony    male   \n",
            "1        1       3         0                             Mr. Anthony    male   \n",
            "2        2       3         0                   Master. Eugene Joseph    male   \n",
            "3        3       2         0             Abbott, Mr. Rossmore Edward     NaN   \n",
            "4        4       3         1             Abbott, Mr. Rossmore Edward  female   \n",
            "...    ...     ...       ...                                     ...     ...   \n",
            "1296  1296       2         0  Yrois, Miss. Henriette (\"Mrs Harbeck\")  female   \n",
            "1297  1297       3         0                    Zabour, Miss. Hileni  female   \n",
            "1298  1298       3         0               Zakarian, Mr. Mapriededer    male   \n",
            "1299  1299       3         0                     Zakarian, Mr. Ortin    male   \n",
            "1300  1300       3         0                      Zimmerman, Mr. Leo    male   \n",
            "\n",
            "       age  family     fare embarked       date  \n",
            "0       42     0.0     7.55      NaN  01-Jan-90  \n",
            "1       42     0.0     7.55      NaN  01-Jan-90  \n",
            "2        ?     2.0    20.25        S  02-Jan-90  \n",
            "3      NaN     2.0       **        S  03-Jan-90  \n",
            "4       35     2.0    20.25        S  04-Jan-90  \n",
            "...    ...     ...      ...      ...        ...  \n",
            "1296    24     0.0       13        S  19-Jul-93  \n",
            "1297  14.5     1.0  14.4542        C  20-Jul-93  \n",
            "1298  26.5     0.0    7.225        C  21-Jul-93  \n",
            "1299    27     0.0    7.225        C  22-Jul-93  \n",
            "1300    29     0.0    7.875        S  23-Jul-93  \n",
            "\n",
            "[1301 rows x 10 columns]>\n"
          ]
        }
      ],
      "source": [
        "# Check for missing values in each column\n",
        "print(df.isnull)\n"
      ]
    },
    {
      "cell_type": "code",
      "execution_count": 12,
      "metadata": {},
      "outputs": [
        {
          "name": "stdout",
          "output_type": "stream",
          "text": [
            "sn has 0 missing value(s)\n",
            "pclass has 0 missing value(s)\n",
            "survived has 0 missing value(s)\n",
            "Name has 0 missing value(s)\n",
            "gender has 1 missing value(s)\n",
            "age has 257 missing value(s)\n",
            "family has 2 missing value(s)\n",
            "fare has 2 missing value(s)\n",
            "embarked has 6 missing value(s)\n",
            "date has 0 missing value(s)\n"
          ]
        }
      ],
      "source": [
        "for c in df.columns:\n",
        "    miss = df[c].isnull().sum()\n",
        "    print(\"{} has {} missing value(s)\".format(c,miss))"
      ]
    },
    {
      "cell_type": "code",
      "execution_count": 14,
      "metadata": {},
      "outputs": [
        {
          "name": "stdout",
          "output_type": "stream",
          "text": [
            "\n",
            "Missing values after cleaning:\n",
            "sn          0\n",
            "pclass      0\n",
            "survived    0\n",
            "Name        0\n",
            "gender      0\n",
            "age         0\n",
            "family      0\n",
            "fare        0\n",
            "embarked    0\n",
            "date        0\n",
            "dtype: int64\n"
          ]
        },
        {
          "name": "stderr",
          "output_type": "stream",
          "text": [
            "/var/folders/vb/41_p0s1566n453rb6lp4pcxr0000gn/T/ipykernel_3013/175444090.py:8: FutureWarning: Series.fillna with 'method' is deprecated and will raise in a future version. Use obj.ffill() or obj.bfill() instead.\n",
            "  df['age'] = df['age'].fillna(method='ffill')\n",
            "/var/folders/vb/41_p0s1566n453rb6lp4pcxr0000gn/T/ipykernel_3013/175444090.py:11: FutureWarning: Series.fillna with 'method' is deprecated and will raise in a future version. Use obj.ffill() or obj.bfill() instead.\n",
            "  df['fare'] = df['fare'].fillna(method='bfill')\n",
            "/var/folders/vb/41_p0s1566n453rb6lp4pcxr0000gn/T/ipykernel_3013/175444090.py:12: FutureWarning: Series.fillna with 'method' is deprecated and will raise in a future version. Use obj.ffill() or obj.bfill() instead.\n",
            "  df['embarked'] = df['embarked'].fillna(method='bfill')\n"
          ]
        }
      ],
      "source": [
        "#Performing data cleaning steps\n",
        "\n",
        "#Handling missing values\n",
        "\n",
        "#dropping rows of gender having 1 missing value and family having 2 missing values\n",
        "\n",
        "df = df.dropna(subset=['gender', 'family'])\n",
        "\n",
        "# Performing Forward-fill missing rows of 'age'\n",
        "df['age'] = df['age'].fillna(method='ffill')\n",
        "\n",
        "#  Backward-fill missing 'fare' and 'embarked'\n",
        "df['fare'] = df['fare'].fillna(method='bfill')\n",
        "df['embarked'] = df['embarked'].fillna(method='bfill')\n",
        "\n",
        "# Check result\n",
        "print(\"\\nMissing values after cleaning:\")\n",
        "print(df.isnull().sum())"
      ]
    },
    {
      "cell_type": "code",
      "execution_count": 15,
      "metadata": {},
      "outputs": [
        {
          "name": "stdout",
          "output_type": "stream",
          "text": [
            "Duplicate rows found: 1\n"
          ]
        }
      ],
      "source": [
        "#checking for inconsistent data\n",
        "# Check duplicates\n",
        "duplicates = df.duplicated().sum()\n",
        "print(f\"Duplicate rows found: {duplicates}\")"
      ]
    },
    {
      "cell_type": "code",
      "execution_count": 16,
      "metadata": {},
      "outputs": [],
      "source": [
        "# Dropping duplicate row\n",
        "df = df.drop_duplicates()"
      ]
    },
    {
      "cell_type": "code",
      "execution_count": 18,
      "metadata": {},
      "outputs": [
        {
          "name": "stdout",
          "output_type": "stream",
          "text": [
            "Empty DataFrame\n",
            "Columns: [sn, pclass, survived, Name, gender, age, family, fare, embarked, date]\n",
            "Index: []\n",
            "Empty DataFrame\n",
            "Columns: [sn, pclass, survived, Name, gender, age, family, fare, embarked, date]\n",
            "Index: []\n",
            "Empty DataFrame\n",
            "Columns: [sn, pclass, survived, Name, gender, age, family, fare, embarked, date]\n",
            "Index: []\n"
          ]
        }
      ],
      "source": [
        "#checking for inconsistent data\n",
        "\n",
        "# Convert `age`, `fare`, `pclass` to numeric — invalid values become NaN\n",
        "df['age'] = pd.to_numeric(df['age'], errors='coerce')\n",
        "df['fare'] = pd.to_numeric(df['fare'], errors='coerce')\n",
        "df['pclass'] = pd.to_numeric(df['pclass'], errors='coerce')\n",
        "\n",
        "# Checking if any `age` is negative\n",
        "print(df[df['age'] < 0])\n",
        "\n",
        "# And fare\n",
        "print(df[df['fare'] < 0])\n",
        "\n",
        "# And pclass\n",
        "print(df[~df['pclass'].isin([1, 2, 3])])\n"
      ]
    },
    {
      "cell_type": "code",
      "execution_count": 25,
      "metadata": {},
      "outputs": [],
      "source": [
        "Q1 = df['age'].quantile(0.25)\n",
        "Q3 = df['age'].quantile(0.75)\n",
        "IQR = Q3 - Q1\n",
        "lower = Q1 - 1.5*IQR\n",
        "upper = Q3 + 1.5*IQR\n",
        "\n",
        "df = df[(df['age'] >= lower) & (df['age'] <= upper)]\n"
      ]
    }
  ],
  "metadata": {
    "colab": {
      "provenance": []
    },
    "kernelspec": {
      "display_name": "Python 3",
      "name": "python3"
    },
    "language_info": {
      "codemirror_mode": {
        "name": "ipython",
        "version": 3
      },
      "file_extension": ".py",
      "mimetype": "text/x-python",
      "name": "python",
      "nbconvert_exporter": "python",
      "pygments_lexer": "ipython3",
      "version": "3.13.0"
    }
  },
  "nbformat": 4,
  "nbformat_minor": 0
}
