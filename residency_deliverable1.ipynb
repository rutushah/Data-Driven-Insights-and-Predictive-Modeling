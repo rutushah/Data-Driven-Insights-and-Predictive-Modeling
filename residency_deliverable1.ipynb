{
 "cells": [
  {
   "cell_type": "markdown",
   "metadata": {},
   "source": [
    "# Residency Project Deliverable: 1\n",
    "# Rutu Shah\n",
    "# Nischal Joshi\n",
    "# Murali Krishna\n",
    "# Santhosh Ramachandran "
   ]
  },
  {
   "cell_type": "code",
   "execution_count": 103,
   "metadata": {
    "colab": {
     "base_uri": "https://localhost:8080/",
     "height": 74
    },
    "execution": {
     "iopub.execute_input": "2025-07-12T00:40:39.715640Z",
     "iopub.status.busy": "2025-07-12T00:40:39.715324Z",
     "iopub.status.idle": "2025-07-12T00:40:39.720038Z",
     "shell.execute_reply": "2025-07-12T00:40:39.719159Z",
     "shell.execute_reply.started": "2025-07-12T00:40:39.715618Z"
    },
    "id": "YXAs8SoBiujn",
    "outputId": "ba0beb94-a355-4592-daac-fc7161c2bf5c",
    "trusted": true
   },
   "outputs": [],
   "source": [
    "import pandas as pd\n",
    "import matplotlib.pyplot as plt\n",
    "import seaborn as sns\n",
    "\n",
    "\n"
   ]
  },
  {
   "cell_type": "code",
   "execution_count": 104,
   "metadata": {
    "colab": {
     "base_uri": "https://localhost:8080/"
    },
    "execution": {
     "iopub.execute_input": "2025-07-12T00:40:39.721831Z",
     "iopub.status.busy": "2025-07-12T00:40:39.721583Z",
     "iopub.status.idle": "2025-07-12T00:40:39.752288Z",
     "shell.execute_reply": "2025-07-12T00:40:39.751316Z",
     "shell.execute_reply.started": "2025-07-12T00:40:39.721811Z"
    },
    "id": "gUA5roh5i0oT",
    "outputId": "a8b5e292-9aff-450c-d074-f1fcb73bc794",
    "trusted": true
   },
   "outputs": [],
   "source": [
    "df = pd.read_csv('/kaggle/input/heart-disease-data/heart_disease_uci.csv')"
   ]
  },
  {
   "cell_type": "code",
   "execution_count": 105,
   "metadata": {
    "execution": {
     "iopub.execute_input": "2025-07-12T00:40:39.753738Z",
     "iopub.status.busy": "2025-07-12T00:40:39.753409Z",
     "iopub.status.idle": "2025-07-12T00:40:39.789688Z",
     "shell.execute_reply": "2025-07-12T00:40:39.788797Z",
     "shell.execute_reply.started": "2025-07-12T00:40:39.753708Z"
    },
    "trusted": true
   },
   "outputs": [
    {
     "name": "stdout",
     "output_type": "stream",
     "text": [
      "Printing head()\n",
      "    id  age     sex    dataset               cp  trestbps   chol    fbs  \\\n",
      "0   1   63    Male  Cleveland   typical angina     145.0  233.0   True   \n",
      "1   2   67    Male  Cleveland     asymptomatic     160.0  286.0  False   \n",
      "2   3   67    Male  Cleveland     asymptomatic     120.0  229.0  False   \n",
      "3   4   37    Male  Cleveland      non-anginal     130.0  250.0  False   \n",
      "4   5   41  Female  Cleveland  atypical angina     130.0  204.0  False   \n",
      "\n",
      "          restecg  thalch  exang  oldpeak        slope   ca  \\\n",
      "0  lv hypertrophy   150.0  False      2.3  downsloping  0.0   \n",
      "1  lv hypertrophy   108.0   True      1.5         flat  3.0   \n",
      "2  lv hypertrophy   129.0   True      2.6         flat  2.0   \n",
      "3          normal   187.0  False      3.5  downsloping  0.0   \n",
      "4  lv hypertrophy   172.0  False      1.4    upsloping  0.0   \n",
      "\n",
      "                thal  num  \n",
      "0       fixed defect    0  \n",
      "1             normal    2  \n",
      "2  reversable defect    1  \n",
      "3             normal    0  \n",
      "4             normal    0  \n",
      "Printing describe()\n",
      "                id         age    trestbps        chol      thalch     oldpeak  \\\n",
      "count  920.000000  920.000000  861.000000  890.000000  865.000000  858.000000   \n",
      "mean   460.500000   53.510870  132.132404  199.130337  137.545665    0.878788   \n",
      "std    265.725422    9.424685   19.066070  110.780810   25.926276    1.091226   \n",
      "min      1.000000   28.000000    0.000000    0.000000   60.000000   -2.600000   \n",
      "25%    230.750000   47.000000  120.000000  175.000000  120.000000    0.000000   \n",
      "50%    460.500000   54.000000  130.000000  223.000000  140.000000    0.500000   \n",
      "75%    690.250000   60.000000  140.000000  268.000000  157.000000    1.500000   \n",
      "max    920.000000   77.000000  200.000000  603.000000  202.000000    6.200000   \n",
      "\n",
      "               ca         num  \n",
      "count  309.000000  920.000000  \n",
      "mean     0.676375    0.995652  \n",
      "std      0.935653    1.142693  \n",
      "min      0.000000    0.000000  \n",
      "25%      0.000000    0.000000  \n",
      "50%      0.000000    1.000000  \n",
      "75%      1.000000    2.000000  \n",
      "max      3.000000    4.000000  \n",
      "<class 'pandas.core.frame.DataFrame'>\n",
      "RangeIndex: 920 entries, 0 to 919\n",
      "Data columns (total 16 columns):\n",
      " #   Column    Non-Null Count  Dtype  \n",
      "---  ------    --------------  -----  \n",
      " 0   id        920 non-null    int64  \n",
      " 1   age       920 non-null    int64  \n",
      " 2   sex       920 non-null    object \n",
      " 3   dataset   920 non-null    object \n",
      " 4   cp        920 non-null    object \n",
      " 5   trestbps  861 non-null    float64\n",
      " 6   chol      890 non-null    float64\n",
      " 7   fbs       830 non-null    object \n",
      " 8   restecg   918 non-null    object \n",
      " 9   thalch    865 non-null    float64\n",
      " 10  exang     865 non-null    object \n",
      " 11  oldpeak   858 non-null    float64\n",
      " 12  slope     611 non-null    object \n",
      " 13  ca        309 non-null    float64\n",
      " 14  thal      434 non-null    object \n",
      " 15  num       920 non-null    int64  \n",
      "dtypes: float64(5), int64(3), object(8)\n",
      "memory usage: 115.1+ KB\n",
      "Printing info()\n",
      " None\n"
     ]
    }
   ],
   "source": [
    "\n",
    "\n",
    "#explore the dataset\n",
    "print(\"Printing head()\\n\", df.head())\n",
    "print(\"Printing describe()\\n\", df.describe())\n",
    "print(\"Printing info()\\n\", df.info())\n"
   ]
  },
  {
   "cell_type": "code",
   "execution_count": 106,
   "metadata": {
    "colab": {
     "base_uri": "https://localhost:8080/"
    },
    "execution": {
     "iopub.execute_input": "2025-07-12T00:40:39.792015Z",
     "iopub.status.busy": "2025-07-12T00:40:39.791709Z",
     "iopub.status.idle": "2025-07-12T00:40:39.804741Z",
     "shell.execute_reply": "2025-07-12T00:40:39.803685Z",
     "shell.execute_reply.started": "2025-07-12T00:40:39.791993Z"
    },
    "id": "hv_Dy_YNi81j",
    "outputId": "f7d2c15b-3817-4f58-957f-fcc58fc08496",
    "trusted": true
   },
   "outputs": [
    {
     "name": "stdout",
     "output_type": "stream",
     "text": [
      "<bound method DataFrame.isnull of       id  age     sex        dataset               cp  trestbps   chol    fbs  \\\n",
      "0      1   63    Male      Cleveland   typical angina     145.0  233.0   True   \n",
      "1      2   67    Male      Cleveland     asymptomatic     160.0  286.0  False   \n",
      "2      3   67    Male      Cleveland     asymptomatic     120.0  229.0  False   \n",
      "3      4   37    Male      Cleveland      non-anginal     130.0  250.0  False   \n",
      "4      5   41  Female      Cleveland  atypical angina     130.0  204.0  False   \n",
      "..   ...  ...     ...            ...              ...       ...    ...    ...   \n",
      "915  916   54  Female  VA Long Beach     asymptomatic     127.0  333.0   True   \n",
      "916  917   62    Male  VA Long Beach   typical angina       NaN  139.0  False   \n",
      "917  918   55    Male  VA Long Beach     asymptomatic     122.0  223.0   True   \n",
      "918  919   58    Male  VA Long Beach     asymptomatic       NaN  385.0   True   \n",
      "919  920   62    Male  VA Long Beach  atypical angina     120.0  254.0  False   \n",
      "\n",
      "              restecg  thalch  exang  oldpeak        slope   ca  \\\n",
      "0      lv hypertrophy   150.0  False      2.3  downsloping  0.0   \n",
      "1      lv hypertrophy   108.0   True      1.5         flat  3.0   \n",
      "2      lv hypertrophy   129.0   True      2.6         flat  2.0   \n",
      "3              normal   187.0  False      3.5  downsloping  0.0   \n",
      "4      lv hypertrophy   172.0  False      1.4    upsloping  0.0   \n",
      "..                ...     ...    ...      ...          ...  ...   \n",
      "915  st-t abnormality   154.0  False      0.0          NaN  NaN   \n",
      "916  st-t abnormality     NaN    NaN      NaN          NaN  NaN   \n",
      "917  st-t abnormality   100.0  False      0.0          NaN  NaN   \n",
      "918    lv hypertrophy     NaN    NaN      NaN          NaN  NaN   \n",
      "919    lv hypertrophy    93.0   True      0.0          NaN  NaN   \n",
      "\n",
      "                  thal  num  \n",
      "0         fixed defect    0  \n",
      "1               normal    2  \n",
      "2    reversable defect    1  \n",
      "3               normal    0  \n",
      "4               normal    0  \n",
      "..                 ...  ...  \n",
      "915                NaN    1  \n",
      "916                NaN    0  \n",
      "917       fixed defect    2  \n",
      "918                NaN    0  \n",
      "919                NaN    1  \n",
      "\n",
      "[920 rows x 16 columns]>\n"
     ]
    },
    {
     "name": "stderr",
     "output_type": "stream",
     "text": [
      "/usr/local/lib/python3.11/dist-packages/pandas/io/formats/format.py:1458: RuntimeWarning: invalid value encountered in greater\n",
      "  has_large_values = (abs_vals > 1e6).any()\n",
      "/usr/local/lib/python3.11/dist-packages/pandas/io/formats/format.py:1459: RuntimeWarning: invalid value encountered in less\n",
      "  has_small_values = ((abs_vals < 10 ** (-self.digits)) & (abs_vals > 0)).any()\n",
      "/usr/local/lib/python3.11/dist-packages/pandas/io/formats/format.py:1459: RuntimeWarning: invalid value encountered in greater\n",
      "  has_small_values = ((abs_vals < 10 ** (-self.digits)) & (abs_vals > 0)).any()\n"
     ]
    }
   ],
   "source": [
    "# Check for missing values in each column\n",
    "print(df.isnull)\n"
   ]
  },
  {
   "cell_type": "code",
   "execution_count": 107,
   "metadata": {
    "execution": {
     "iopub.execute_input": "2025-07-12T00:40:39.806505Z",
     "iopub.status.busy": "2025-07-12T00:40:39.806153Z",
     "iopub.status.idle": "2025-07-12T00:40:39.829065Z",
     "shell.execute_reply": "2025-07-12T00:40:39.828072Z",
     "shell.execute_reply.started": "2025-07-12T00:40:39.806477Z"
    },
    "trusted": true
   },
   "outputs": [
    {
     "name": "stdout",
     "output_type": "stream",
     "text": [
      "id has 0 missing value(s)\n",
      "age has 0 missing value(s)\n",
      "sex has 0 missing value(s)\n",
      "dataset has 0 missing value(s)\n",
      "cp has 0 missing value(s)\n",
      "trestbps has 59 missing value(s)\n",
      "chol has 30 missing value(s)\n",
      "fbs has 90 missing value(s)\n",
      "restecg has 2 missing value(s)\n",
      "thalch has 55 missing value(s)\n",
      "exang has 55 missing value(s)\n",
      "oldpeak has 62 missing value(s)\n",
      "slope has 309 missing value(s)\n",
      "ca has 611 missing value(s)\n",
      "thal has 486 missing value(s)\n",
      "num has 0 missing value(s)\n"
     ]
    }
   ],
   "source": [
    "for c in df.columns:\n",
    "    miss = df[c].isnull().sum()\n",
    "    print(\"{} has {} missing value(s)\".format(c,miss))"
   ]
  },
  {
   "cell_type": "code",
   "execution_count": 108,
   "metadata": {
    "execution": {
     "iopub.execute_input": "2025-07-12T00:40:39.830587Z",
     "iopub.status.busy": "2025-07-12T00:40:39.830143Z",
     "iopub.status.idle": "2025-07-12T00:40:39.859482Z",
     "shell.execute_reply": "2025-07-12T00:40:39.858532Z",
     "shell.execute_reply.started": "2025-07-12T00:40:39.830554Z"
    },
    "trusted": true
   },
   "outputs": [
    {
     "name": "stdout",
     "output_type": "stream",
     "text": [
      "\n",
      "Missing values after cleaning:\n",
      "id          0\n",
      "age         0\n",
      "sex         0\n",
      "dataset     0\n",
      "cp          0\n",
      "trestbps    0\n",
      "chol        0\n",
      "fbs         0\n",
      "restecg     0\n",
      "thalch      0\n",
      "exang       0\n",
      "oldpeak     0\n",
      "slope       0\n",
      "ca          0\n",
      "thal        0\n",
      "num         0\n",
      "dtype: int64\n"
     ]
    },
    {
     "name": "stderr",
     "output_type": "stream",
     "text": [
      "/tmp/ipykernel_36/752498086.py:12: FutureWarning: Series.fillna with 'method' is deprecated and will raise in a future version. Use obj.ffill() or obj.bfill() instead.\n",
      "  df['fbs'] = df['fbs'].fillna(method='ffill')\n",
      "/tmp/ipykernel_36/752498086.py:12: FutureWarning: Downcasting object dtype arrays on .fillna, .ffill, .bfill is deprecated and will change in a future version. Call result.infer_objects(copy=False) instead. To opt-in to the future behavior, set `pd.set_option('future.no_silent_downcasting', True)`\n",
      "  df['fbs'] = df['fbs'].fillna(method='ffill')\n",
      "/tmp/ipykernel_36/752498086.py:14: FutureWarning: Series.fillna with 'method' is deprecated and will raise in a future version. Use obj.ffill() or obj.bfill() instead.\n",
      "  df['thalch'] = df['thalch'].fillna(method='ffill')\n",
      "/tmp/ipykernel_36/752498086.py:16: FutureWarning: Series.fillna with 'method' is deprecated and will raise in a future version. Use obj.ffill() or obj.bfill() instead.\n",
      "  df['exang'] = df['exang'].fillna(method='ffill')\n",
      "/tmp/ipykernel_36/752498086.py:16: FutureWarning: Downcasting object dtype arrays on .fillna, .ffill, .bfill is deprecated and will change in a future version. Call result.infer_objects(copy=False) instead. To opt-in to the future behavior, set `pd.set_option('future.no_silent_downcasting', True)`\n",
      "  df['exang'] = df['exang'].fillna(method='ffill')\n",
      "/tmp/ipykernel_36/752498086.py:18: FutureWarning: Series.fillna with 'method' is deprecated and will raise in a future version. Use obj.ffill() or obj.bfill() instead.\n",
      "  df['ca'] = df['ca'].fillna(method='ffill')\n",
      "/tmp/ipykernel_36/752498086.py:20: FutureWarning: Series.fillna with 'method' is deprecated and will raise in a future version. Use obj.ffill() or obj.bfill() instead.\n",
      "  df['thal'] = df['thal'].fillna(method='ffill')\n",
      "/tmp/ipykernel_36/752498086.py:25: FutureWarning: Series.fillna with 'method' is deprecated and will raise in a future version. Use obj.ffill() or obj.bfill() instead.\n",
      "  df['chol'] = df['chol'].fillna(method='bfill')\n",
      "/tmp/ipykernel_36/752498086.py:27: FutureWarning: Series.fillna with 'method' is deprecated and will raise in a future version. Use obj.ffill() or obj.bfill() instead.\n",
      "  df['trestbps'] = df['trestbps'].fillna(method='bfill')\n"
     ]
    }
   ],
   "source": [
    "#Performing data cleaning steps\n",
    "\n",
    "#Handling missing values\n",
    "\n",
    "#dropping rows of gender having 1 missing value and family having 2 missing values\n",
    "\n",
    "df = df.dropna(subset=['slope', 'restecg'])\n",
    "\n",
    "if df['age'].isnull().sum() > 0:\n",
    "    df['age'] = df['age'].fillna(method='ffill')\n",
    "if df['fbs'].isnull().sum() > 0:\n",
    "    df['fbs'] = df['fbs'].fillna(method='ffill')\n",
    "if df['thalch'].isnull().sum() > 0:\n",
    "    df['thalch'] = df['thalch'].fillna(method='ffill')\n",
    "if df['exang'].isnull().sum() > 0:\n",
    "    df['exang'] = df['exang'].fillna(method='ffill')\n",
    "if df['ca'].isnull().sum() > 0:\n",
    "    df['ca'] = df['ca'].fillna(method='ffill')\n",
    "if df['thal'].isnull().sum() > 0:\n",
    "    df['thal'] = df['thal'].fillna(method='ffill')\n",
    "\n",
    "# If you have columns like 'chol' or 'thalach' with missing — you can fill them too\n",
    "# Here replacing *example* columns:\n",
    "if 'chol' in df.columns and df['chol'].isnull().sum() > 0:\n",
    "    df['chol'] = df['chol'].fillna(method='bfill')\n",
    "if 'trestbps' in df.columns and df['trestbps'].isnull().sum() > 0:\n",
    "    df['trestbps'] = df['trestbps'].fillna(method='bfill')\n",
    "if 'thalach' in df.columns and df['thalach'].isnull().sum() > 0:\n",
    "    df['thalach'] = df['thalach'].fillna(method='bfill')\n",
    "if 'oldpeak' in df.columns and df['oldpeak'].isnull().sum() > 0:\n",
    "    df['oldpeak'] = df['oldpeak'].fillna(method='bfill')\n",
    "if 'slope' in df.columns and df['slope'].isnull().sum() > 0:\n",
    "    df['slope'] = df['slope'].fillna(method='bfill')\n",
    "if 'ca' in df.columns and df['ca'].isnull().sum() > 0:\n",
    "    df['ca'] = df['ca'].fillna(method='bfill')\n",
    "if 'thal' in df.columns and df['thal'].isnull().sum() > 0:\n",
    "    df['thal'] = df['thal'].fillna(method='bfill')\n",
    "\n",
    "\n",
    "# Check result\n",
    "print(\"\\nMissing values after cleaning:\")\n",
    "print(df.isnull().sum())"
   ]
  },
  {
   "cell_type": "code",
   "execution_count": 109,
   "metadata": {
    "execution": {
     "iopub.execute_input": "2025-07-12T00:40:39.861374Z",
     "iopub.status.busy": "2025-07-12T00:40:39.860641Z",
     "iopub.status.idle": "2025-07-12T00:40:39.869326Z",
     "shell.execute_reply": "2025-07-12T00:40:39.868559Z",
     "shell.execute_reply.started": "2025-07-12T00:40:39.861345Z"
    },
    "trusted": true
   },
   "outputs": [
    {
     "name": "stdout",
     "output_type": "stream",
     "text": [
      "Duplicate rows found: 0\n"
     ]
    }
   ],
   "source": [
    "#checking for inconsistent data\n",
    "# Check duplicates\n",
    "duplicates = df.duplicated().sum()\n",
    "print(f\"Duplicate rows found: {duplicates}\")"
   ]
  },
  {
   "cell_type": "code",
   "execution_count": 110,
   "metadata": {
    "execution": {
     "iopub.execute_input": "2025-07-12T00:40:39.870476Z",
     "iopub.status.busy": "2025-07-12T00:40:39.870174Z",
     "iopub.status.idle": "2025-07-12T00:40:39.885720Z",
     "shell.execute_reply": "2025-07-12T00:40:39.884738Z",
     "shell.execute_reply.started": "2025-07-12T00:40:39.870449Z"
    },
    "trusted": true
   },
   "outputs": [
    {
     "name": "stdout",
     "output_type": "stream",
     "text": [
      "Empty DataFrame\n",
      "Columns: [id, age, sex, dataset, cp, trestbps, chol, fbs, restecg, thalch, exang, oldpeak, slope, ca, thal, num]\n",
      "Index: []\n",
      "Empty DataFrame\n",
      "Columns: [id, age, sex, dataset, cp, trestbps, chol, fbs, restecg, thalch, exang, oldpeak, slope, ca, thal, num]\n",
      "Index: []\n"
     ]
    }
   ],
   "source": [
    "# Convert numeric columns\n",
    "df['age'] = pd.to_numeric(df['age'], errors='coerce')\n",
    "df['chol'] = pd.to_numeric(df['chol'], errors='coerce')\n",
    "\n",
    "# Check inconsistent values\n",
    "print(df[df['age'] < 0])  # unlikely\n",
    "print(df[df['chol'] < 0]) # unlikely"
   ]
  },
  {
   "cell_type": "code",
   "execution_count": 111,
   "metadata": {
    "execution": {
     "iopub.execute_input": "2025-07-12T00:40:39.888992Z",
     "iopub.status.busy": "2025-07-12T00:40:39.888708Z",
     "iopub.status.idle": "2025-07-12T00:40:39.908677Z",
     "shell.execute_reply": "2025-07-12T00:40:39.907724Z",
     "shell.execute_reply.started": "2025-07-12T00:40:39.888971Z"
    },
    "trusted": true
   },
   "outputs": [
    {
     "name": "stdout",
     "output_type": "stream",
     "text": [
      "\n",
      "Age IQR Analysis:\n",
      "Q1: 49.0\n",
      "Q3: 61.0\n",
      "IQR: 12.0\n",
      "Lower Bound: 31.0\n",
      "Upper Bound: 79.0\n"
     ]
    }
   ],
   "source": [
    "# Detect noisy age\n",
    "Q1 = df['age'].quantile(0.25)\n",
    "Q3 = df['age'].quantile(0.75)\n",
    "IQR = Q3 - Q1\n",
    "lower = Q1 - 1.5*IQR\n",
    "upper = Q3 + 1.5*IQR\n",
    "\n",
    "df = df[(df['age'] >= lower) & (df['age'] <= upper)]\n",
    "\n",
    "print(f\"\\nAge IQR Analysis:\\nQ1: {Q1}\\nQ3: {Q3}\\nIQR: {IQR}\\nLower Bound: {lower}\\nUpper Bound: {upper}\")\n"
   ]
  },
  {
   "cell_type": "code",
   "execution_count": 112,
   "metadata": {
    "execution": {
     "iopub.execute_input": "2025-07-12T00:40:39.910021Z",
     "iopub.status.busy": "2025-07-12T00:40:39.909715Z",
     "iopub.status.idle": "2025-07-12T00:40:39.926569Z",
     "shell.execute_reply": "2025-07-12T00:40:39.925675Z",
     "shell.execute_reply.started": "2025-07-12T00:40:39.909995Z"
    },
    "trusted": true
   },
   "outputs": [
    {
     "name": "stdout",
     "output_type": "stream",
     "text": [
      "Cholesterol upper bound (99th percentile): 406.7599999999999\n"
     ]
    }
   ],
   "source": [
    "# Detect noisy cholesterol\n",
    "if 'chol' in df.columns:\n",
    "    chol_upper = df['chol'].quantile(0.99)\n",
    "    df = df[df['chol'] <= chol_upper]\n",
    "    print(f\"Cholesterol upper bound (99th percentile): {chol_upper}\")\n"
   ]
  },
  {
   "cell_type": "code",
   "execution_count": 113,
   "metadata": {
    "execution": {
     "iopub.execute_input": "2025-07-12T00:40:39.927930Z",
     "iopub.status.busy": "2025-07-12T00:40:39.927574Z",
     "iopub.status.idle": "2025-07-12T00:40:40.204384Z",
     "shell.execute_reply": "2025-07-12T00:40:40.203372Z",
     "shell.execute_reply.started": "2025-07-12T00:40:39.927905Z"
    },
    "trusted": true
   },
   "outputs": [
    {
     "name": "stderr",
     "output_type": "stream",
     "text": [
      "/usr/local/lib/python3.11/dist-packages/seaborn/_oldcore.py:1119: FutureWarning: use_inf_as_na option is deprecated and will be removed in a future version. Convert inf values to NaN before operating instead.\n",
      "  with pd.option_context('mode.use_inf_as_na', True):\n"
     ]
    },
    {
     "data": {
      "image/png": "[encoded data removed]",
      "text/plain": [
       "<Figure size 800x400 with 1 Axes>"
      ]
     },
     "metadata": {},
     "output_type": "display_data"
    }
   ],
   "source": [
    "#Exploratory data analysis on Age Distribution\n",
    "plt.figure(figsize=(8,4))\n",
    "sns.histplot(df['age'], bins=30, kde=True)\n",
    "plt.title(\"Distribution of Age\")\n",
    "plt.xlabel(\"Age\")\n",
    "plt.ylabel(\"Count\")\n",
    "plt.show()\n"
   ]
  },
  {
   "cell_type": "code",
   "execution_count": 114,
   "metadata": {
    "execution": {
     "iopub.execute_input": "2025-07-12T00:40:40.205746Z",
     "iopub.status.busy": "2025-07-12T00:40:40.205413Z",
     "iopub.status.idle": "2025-07-12T00:40:40.508916Z",
     "shell.execute_reply": "2025-07-12T00:40:40.508067Z",
     "shell.execute_reply.started": "2025-07-12T00:40:40.205718Z"
    },
    "trusted": true
   },
   "outputs": [
    {
     "name": "stderr",
     "output_type": "stream",
     "text": [
      "/usr/local/lib/python3.11/dist-packages/seaborn/_oldcore.py:1119: FutureWarning: use_inf_as_na option is deprecated and will be removed in a future version. Convert inf values to NaN before operating instead.\n",
      "  with pd.option_context('mode.use_inf_as_na', True):\n"
     ]
    },
    {
     "data": {
      "image/png": "[encoded data removed]",
      "text/plain": [
       "<Figure size 800x400 with 1 Axes>"
      ]
     },
     "metadata": {},
     "output_type": "display_data"
    }
   ],
   "source": [
    "#Exploratory data analysis Cholesterol\n",
    "if 'chol' in df.columns:\n",
    "    plt.figure(figsize=(8,4))\n",
    "    sns.histplot(df['chol'], bins=30, kde=True)\n",
    "    plt.title(\"Distribution of Cholesterol\")\n",
    "    plt.xlabel(\"Cholesterol\")\n",
    "    plt.ylabel(\"Count\")\n",
    "    plt.show()"
   ]
  },
  {
   "cell_type": "code",
   "execution_count": 115,
   "metadata": {
    "execution": {
     "iopub.execute_input": "2025-07-12T00:40:40.510141Z",
     "iopub.status.busy": "2025-07-12T00:40:40.509878Z",
     "iopub.status.idle": "2025-07-12T00:40:40.686817Z",
     "shell.execute_reply": "2025-07-12T00:40:40.685937Z",
     "shell.execute_reply.started": "2025-07-12T00:40:40.510109Z"
    },
    "trusted": true
   },
   "outputs": [
    {
     "name": "stdout",
     "output_type": "stream",
     "text": [
      "Index(['id', 'age', 'sex', 'dataset', 'cp', 'trestbps', 'chol', 'fbs',\n",
      "       'restecg', 'thalch', 'exang', 'oldpeak', 'slope', 'ca', 'thal', 'num'],\n",
      "      dtype='object')\n"
     ]
    },
    {
     "data": {
      "image/png": "[encoded data removed]",
      "text/plain": [
       "<Figure size 600x400 with 1 Axes>"
      ]
     },
     "metadata": {},
     "output_type": "display_data"
    }
   ],
   "source": [
    "# Checking the target column\n",
    "print(df.columns)\n",
    "\n",
    "#renaming it to nu,\n",
    "if 'target' not in df.columns and 'num' in df.columns:\n",
    "    df.rename(columns={'num': 'target'}, inplace=True)\n",
    "\n",
    "#converting to binary\n",
    "df['target'] = df['target'].apply(lambda x: 1 if x > 0 else 0)\n",
    "\n",
    "# Now plot\n",
    "plt.figure(figsize=(6,4))\n",
    "sns.countplot(x='sex', hue='target', data=df)\n",
    "plt.title(\"Heart Disease Counts by Sex\")\n",
    "plt.xlabel(\"Sex (1=Male, 0=Female)\")\n",
    "plt.ylabel(\"Count\")\n",
    "plt.legend(title=\"Heart Disease\", labels=[\"No\", \"Yes\"])\n",
    "plt.show()\n"
   ]
  },
  {
   "cell_type": "code",
   "execution_count": 116,
   "metadata": {
    "execution": {
     "iopub.execute_input": "2025-07-12T00:40:40.687913Z",
     "iopub.status.busy": "2025-07-12T00:40:40.687651Z",
     "iopub.status.idle": "2025-07-12T00:40:40.695049Z",
     "shell.execute_reply": "2025-07-12T00:40:40.694223Z",
     "shell.execute_reply.started": "2025-07-12T00:40:40.687887Z"
    },
    "trusted": true
   },
   "outputs": [],
   "source": [
    "# Since the data is not all numerical, we need to convert them to labels\n",
    "# Identify categorical columns (usually dtype == object or string)\n",
    "categorical_cols = df.select_dtypes(include=['object']).columns\n",
    "numeric_cols = df.select_dtypes(include=['int64', 'float64']).columns"
   ]
  },
  {
   "cell_type": "code",
   "execution_count": 117,
   "metadata": {
    "execution": {
     "iopub.execute_input": "2025-07-12T00:40:40.696613Z",
     "iopub.status.busy": "2025-07-12T00:40:40.696342Z",
     "iopub.status.idle": "2025-07-12T00:40:40.711601Z",
     "shell.execute_reply": "2025-07-12T00:40:40.710698Z",
     "shell.execute_reply.started": "2025-07-12T00:40:40.696587Z"
    },
    "trusted": true
   },
   "outputs": [
    {
     "data": {
      "text/plain": [
       "Index(['id', 'age', 'trestbps', 'chol', 'thalch', 'oldpeak', 'ca', 'target'], dtype='object')"
      ]
     },
     "execution_count": 117,
     "metadata": {},
     "output_type": "execute_result"
    }
   ],
   "source": [
    "numeric_cols"
   ]
  },
  {
   "cell_type": "code",
   "execution_count": 118,
   "metadata": {
    "execution": {
     "iopub.execute_input": "2025-07-12T00:40:40.713061Z",
     "iopub.status.busy": "2025-07-12T00:40:40.712612Z",
     "iopub.status.idle": "2025-07-12T00:40:40.729916Z",
     "shell.execute_reply": "2025-07-12T00:40:40.729089Z",
     "shell.execute_reply.started": "2025-07-12T00:40:40.713033Z"
    },
    "trusted": true
   },
   "outputs": [
    {
     "data": {
      "text/plain": [
       "Index(['sex', 'dataset', 'cp', 'restecg', 'slope', 'thal'], dtype='object')"
      ]
     },
     "execution_count": 118,
     "metadata": {},
     "output_type": "execute_result"
    }
   ],
   "source": [
    "categorical_cols"
   ]
  },
  {
   "cell_type": "code",
   "execution_count": 119,
   "metadata": {
    "execution": {
     "iopub.execute_input": "2025-07-12T00:40:40.731044Z",
     "iopub.status.busy": "2025-07-12T00:40:40.730793Z",
     "iopub.status.idle": "2025-07-12T00:40:40.750262Z",
     "shell.execute_reply": "2025-07-12T00:40:40.749497Z",
     "shell.execute_reply.started": "2025-07-12T00:40:40.731025Z"
    },
    "trusted": true
   },
   "outputs": [],
   "source": [
    "from sklearn.preprocessing import LabelEncoder\n",
    "\n",
    "#Using LabelEncoder to convert the string values to numeric labels\n",
    "label_encoder = LabelEncoder()\n",
    "for col in categorical_cols:\n",
    "    df[col] = label_encoder.fit_transform(df[col])"
   ]
  },
  {
   "cell_type": "code",
   "execution_count": 120,
   "metadata": {
    "execution": {
     "iopub.execute_input": "2025-07-12T00:40:40.751339Z",
     "iopub.status.busy": "2025-07-12T00:40:40.751052Z",
     "iopub.status.idle": "2025-07-12T00:40:40.777462Z",
     "shell.execute_reply": "2025-07-12T00:40:40.776588Z",
     "shell.execute_reply.started": "2025-07-12T00:40:40.751319Z"
    },
    "trusted": true
   },
   "outputs": [
    {
     "data": {
      "text/html": [
       "<div>\n",
       "<style scoped>\n",
       "    .dataframe tbody tr th:only-of-type {\n",
       "        vertical-align: middle;\n",
       "    }\n",
       "\n",
       "    .dataframe tbody tr th {\n",
       "        vertical-align: top;\n",
       "    }\n",
       "\n",
       "    .dataframe thead th {\n",
       "        text-align: right;\n",
       "    }\n",
       "</style>\n",
       "<table border=\"1\" class=\"dataframe\">\n",
       "  <thead>\n",
       "    <tr style=\"text-align: right;\">\n",
       "      <th></th>\n",
       "      <th>id</th>\n",
       "      <th>age</th>\n",
       "      <th>sex</th>\n",
       "      <th>dataset</th>\n",
       "      <th>cp</th>\n",
       "      <th>trestbps</th>\n",
       "      <th>chol</th>\n",
       "      <th>fbs</th>\n",
       "      <th>restecg</th>\n",
       "      <th>thalch</th>\n",
       "      <th>exang</th>\n",
       "      <th>oldpeak</th>\n",
       "      <th>slope</th>\n",
       "      <th>ca</th>\n",
       "      <th>thal</th>\n",
       "      <th>target</th>\n",
       "    </tr>\n",
       "  </thead>\n",
       "  <tbody>\n",
       "    <tr>\n",
       "      <th>0</th>\n",
       "      <td>1</td>\n",
       "      <td>63</td>\n",
       "      <td>1</td>\n",
       "      <td>0</td>\n",
       "      <td>3</td>\n",
       "      <td>145.0</td>\n",
       "      <td>233.0</td>\n",
       "      <td>True</td>\n",
       "      <td>0</td>\n",
       "      <td>150.0</td>\n",
       "      <td>False</td>\n",
       "      <td>2.3</td>\n",
       "      <td>0</td>\n",
       "      <td>0.0</td>\n",
       "      <td>0</td>\n",
       "      <td>0</td>\n",
       "    </tr>\n",
       "    <tr>\n",
       "      <th>1</th>\n",
       "      <td>2</td>\n",
       "      <td>67</td>\n",
       "      <td>1</td>\n",
       "      <td>0</td>\n",
       "      <td>0</td>\n",
       "      <td>160.0</td>\n",
       "      <td>286.0</td>\n",
       "      <td>False</td>\n",
       "      <td>0</td>\n",
       "      <td>108.0</td>\n",
       "      <td>True</td>\n",
       "      <td>1.5</td>\n",
       "      <td>1</td>\n",
       "      <td>3.0</td>\n",
       "      <td>1</td>\n",
       "      <td>1</td>\n",
       "    </tr>\n",
       "    <tr>\n",
       "      <th>2</th>\n",
       "      <td>3</td>\n",
       "      <td>67</td>\n",
       "      <td>1</td>\n",
       "      <td>0</td>\n",
       "      <td>0</td>\n",
       "      <td>120.0</td>\n",
       "      <td>229.0</td>\n",
       "      <td>False</td>\n",
       "      <td>0</td>\n",
       "      <td>129.0</td>\n",
       "      <td>True</td>\n",
       "      <td>2.6</td>\n",
       "      <td>1</td>\n",
       "      <td>2.0</td>\n",
       "      <td>2</td>\n",
       "      <td>1</td>\n",
       "    </tr>\n",
       "    <tr>\n",
       "      <th>3</th>\n",
       "      <td>4</td>\n",
       "      <td>37</td>\n",
       "      <td>1</td>\n",
       "      <td>0</td>\n",
       "      <td>2</td>\n",
       "      <td>130.0</td>\n",
       "      <td>250.0</td>\n",
       "      <td>False</td>\n",
       "      <td>1</td>\n",
       "      <td>187.0</td>\n",
       "      <td>False</td>\n",
       "      <td>3.5</td>\n",
       "      <td>0</td>\n",
       "      <td>0.0</td>\n",
       "      <td>1</td>\n",
       "      <td>0</td>\n",
       "    </tr>\n",
       "    <tr>\n",
       "      <th>4</th>\n",
       "      <td>5</td>\n",
       "      <td>41</td>\n",
       "      <td>0</td>\n",
       "      <td>0</td>\n",
       "      <td>1</td>\n",
       "      <td>130.0</td>\n",
       "      <td>204.0</td>\n",
       "      <td>False</td>\n",
       "      <td>0</td>\n",
       "      <td>172.0</td>\n",
       "      <td>False</td>\n",
       "      <td>1.4</td>\n",
       "      <td>2</td>\n",
       "      <td>0.0</td>\n",
       "      <td>1</td>\n",
       "      <td>0</td>\n",
       "    </tr>\n",
       "  </tbody>\n",
       "</table>\n",
       "</div>"
      ],
      "text/plain": [
       "   id  age  sex  dataset  cp  trestbps   chol    fbs  restecg  thalch  exang  \\\n",
       "0   1   63    1        0   3     145.0  233.0   True        0   150.0  False   \n",
       "1   2   67    1        0   0     160.0  286.0  False        0   108.0   True   \n",
       "2   3   67    1        0   0     120.0  229.0  False        0   129.0   True   \n",
       "3   4   37    1        0   2     130.0  250.0  False        1   187.0  False   \n",
       "4   5   41    0        0   1     130.0  204.0  False        0   172.0  False   \n",
       "\n",
       "   oldpeak  slope   ca  thal  target  \n",
       "0      2.3      0  0.0     0       0  \n",
       "1      1.5      1  3.0     1       1  \n",
       "2      2.6      1  2.0     2       1  \n",
       "3      3.5      0  0.0     1       0  \n",
       "4      1.4      2  0.0     1       0  "
      ]
     },
     "execution_count": 120,
     "metadata": {},
     "output_type": "execute_result"
    }
   ],
   "source": [
    "df.head()"
   ]
  },
  {
   "cell_type": "code",
   "execution_count": 121,
   "metadata": {
    "execution": {
     "iopub.execute_input": "2025-07-12T00:40:40.778615Z",
     "iopub.status.busy": "2025-07-12T00:40:40.778347Z",
     "iopub.status.idle": "2025-07-12T00:40:40.793333Z",
     "shell.execute_reply": "2025-07-12T00:40:40.792295Z",
     "shell.execute_reply.started": "2025-07-12T00:40:40.778590Z"
    },
    "trusted": true
   },
   "outputs": [],
   "source": [
    "from sklearn.model_selection import train_test_split"
   ]
  },
  {
   "cell_type": "code",
   "execution_count": 122,
   "metadata": {
    "execution": {
     "iopub.execute_input": "2025-07-12T00:40:40.794525Z",
     "iopub.status.busy": "2025-07-12T00:40:40.794239Z",
     "iopub.status.idle": "2025-07-12T00:40:40.815071Z",
     "shell.execute_reply": "2025-07-12T00:40:40.814227Z",
     "shell.execute_reply.started": "2025-07-12T00:40:40.794499Z"
    },
    "trusted": true
   },
   "outputs": [],
   "source": [
    "X = df[df.columns[:15]]\n",
    "y = df[df.columns[-1]]\n",
    "X_train, X_test, y_train, y_test = train_test_split(X, y, test_size = 0.50)"
   ]
  },
  {
   "cell_type": "code",
   "execution_count": 123,
   "metadata": {
    "execution": {
     "iopub.execute_input": "2025-07-12T00:40:40.816286Z",
     "iopub.status.busy": "2025-07-12T00:40:40.816017Z",
     "iopub.status.idle": "2025-07-12T00:40:40.833810Z",
     "shell.execute_reply": "2025-07-12T00:40:40.832958Z",
     "shell.execute_reply.started": "2025-07-12T00:40:40.816267Z"
    },
    "trusted": true
   },
   "outputs": [
    {
     "data": {
      "text/plain": [
       "id          0\n",
       "age         0\n",
       "sex         0\n",
       "dataset     0\n",
       "cp          0\n",
       "trestbps    0\n",
       "chol        0\n",
       "fbs         0\n",
       "restecg     0\n",
       "thalch      0\n",
       "exang       0\n",
       "oldpeak     0\n",
       "slope       0\n",
       "ca          0\n",
       "thal        0\n",
       "dtype: int64"
      ]
     },
     "execution_count": 123,
     "metadata": {},
     "output_type": "execute_result"
    }
   ],
   "source": [
    "X.isnull().sum()"
   ]
  },
  {
   "cell_type": "code",
   "execution_count": 124,
   "metadata": {
    "execution": {
     "iopub.execute_input": "2025-07-12T00:40:40.835049Z",
     "iopub.status.busy": "2025-07-12T00:40:40.834757Z",
     "iopub.status.idle": "2025-07-12T00:40:40.859876Z",
     "shell.execute_reply": "2025-07-12T00:40:40.859028Z",
     "shell.execute_reply.started": "2025-07-12T00:40:40.835023Z"
    },
    "trusted": true
   },
   "outputs": [
    {
     "data": {
      "text/html": [
       "<div>\n",
       "<style scoped>\n",
       "    .dataframe tbody tr th:only-of-type {\n",
       "        vertical-align: middle;\n",
       "    }\n",
       "\n",
       "    .dataframe tbody tr th {\n",
       "        vertical-align: top;\n",
       "    }\n",
       "\n",
       "    .dataframe thead th {\n",
       "        text-align: right;\n",
       "    }\n",
       "</style>\n",
       "<table border=\"1\" class=\"dataframe\">\n",
       "  <thead>\n",
       "    <tr style=\"text-align: right;\">\n",
       "      <th></th>\n",
       "      <th>id</th>\n",
       "      <th>age</th>\n",
       "      <th>sex</th>\n",
       "      <th>dataset</th>\n",
       "      <th>cp</th>\n",
       "      <th>trestbps</th>\n",
       "      <th>chol</th>\n",
       "      <th>fbs</th>\n",
       "      <th>restecg</th>\n",
       "      <th>thalch</th>\n",
       "      <th>exang</th>\n",
       "      <th>oldpeak</th>\n",
       "      <th>slope</th>\n",
       "      <th>ca</th>\n",
       "      <th>thal</th>\n",
       "    </tr>\n",
       "  </thead>\n",
       "  <tbody>\n",
       "    <tr>\n",
       "      <th>0</th>\n",
       "      <td>1</td>\n",
       "      <td>63</td>\n",
       "      <td>1</td>\n",
       "      <td>0</td>\n",
       "      <td>3</td>\n",
       "      <td>145.0</td>\n",
       "      <td>233.0</td>\n",
       "      <td>True</td>\n",
       "      <td>0</td>\n",
       "      <td>150.0</td>\n",
       "      <td>False</td>\n",
       "      <td>2.3</td>\n",
       "      <td>0</td>\n",
       "      <td>0.0</td>\n",
       "      <td>0</td>\n",
       "    </tr>\n",
       "    <tr>\n",
       "      <th>1</th>\n",
       "      <td>2</td>\n",
       "      <td>67</td>\n",
       "      <td>1</td>\n",
       "      <td>0</td>\n",
       "      <td>0</td>\n",
       "      <td>160.0</td>\n",
       "      <td>286.0</td>\n",
       "      <td>False</td>\n",
       "      <td>0</td>\n",
       "      <td>108.0</td>\n",
       "      <td>True</td>\n",
       "      <td>1.5</td>\n",
       "      <td>1</td>\n",
       "      <td>3.0</td>\n",
       "      <td>1</td>\n",
       "    </tr>\n",
       "    <tr>\n",
       "      <th>2</th>\n",
       "      <td>3</td>\n",
       "      <td>67</td>\n",
       "      <td>1</td>\n",
       "      <td>0</td>\n",
       "      <td>0</td>\n",
       "      <td>120.0</td>\n",
       "      <td>229.0</td>\n",
       "      <td>False</td>\n",
       "      <td>0</td>\n",
       "      <td>129.0</td>\n",
       "      <td>True</td>\n",
       "      <td>2.6</td>\n",
       "      <td>1</td>\n",
       "      <td>2.0</td>\n",
       "      <td>2</td>\n",
       "    </tr>\n",
       "    <tr>\n",
       "      <th>3</th>\n",
       "      <td>4</td>\n",
       "      <td>37</td>\n",
       "      <td>1</td>\n",
       "      <td>0</td>\n",
       "      <td>2</td>\n",
       "      <td>130.0</td>\n",
       "      <td>250.0</td>\n",
       "      <td>False</td>\n",
       "      <td>1</td>\n",
       "      <td>187.0</td>\n",
       "      <td>False</td>\n",
       "      <td>3.5</td>\n",
       "      <td>0</td>\n",
       "      <td>0.0</td>\n",
       "      <td>1</td>\n",
       "    </tr>\n",
       "    <tr>\n",
       "      <th>4</th>\n",
       "      <td>5</td>\n",
       "      <td>41</td>\n",
       "      <td>0</td>\n",
       "      <td>0</td>\n",
       "      <td>1</td>\n",
       "      <td>130.0</td>\n",
       "      <td>204.0</td>\n",
       "      <td>False</td>\n",
       "      <td>0</td>\n",
       "      <td>172.0</td>\n",
       "      <td>False</td>\n",
       "      <td>1.4</td>\n",
       "      <td>2</td>\n",
       "      <td>0.0</td>\n",
       "      <td>1</td>\n",
       "    </tr>\n",
       "  </tbody>\n",
       "</table>\n",
       "</div>"
      ],
      "text/plain": [
       "   id  age  sex  dataset  cp  trestbps   chol    fbs  restecg  thalch  exang  \\\n",
       "0   1   63    1        0   3     145.0  233.0   True        0   150.0  False   \n",
       "1   2   67    1        0   0     160.0  286.0  False        0   108.0   True   \n",
       "2   3   67    1        0   0     120.0  229.0  False        0   129.0   True   \n",
       "3   4   37    1        0   2     130.0  250.0  False        1   187.0  False   \n",
       "4   5   41    0        0   1     130.0  204.0  False        0   172.0  False   \n",
       "\n",
       "   oldpeak  slope   ca  thal  \n",
       "0      2.3      0  0.0     0  \n",
       "1      1.5      1  3.0     1  \n",
       "2      2.6      1  2.0     2  \n",
       "3      3.5      0  0.0     1  \n",
       "4      1.4      2  0.0     1  "
      ]
     },
     "execution_count": 124,
     "metadata": {},
     "output_type": "execute_result"
    }
   ],
   "source": [
    "X.head()"
   ]
  },
  {
   "cell_type": "code",
   "execution_count": 125,
   "metadata": {
    "execution": {
     "iopub.execute_input": "2025-07-12T00:40:40.861042Z",
     "iopub.status.busy": "2025-07-12T00:40:40.860754Z",
     "iopub.status.idle": "2025-07-12T00:40:40.880743Z",
     "shell.execute_reply": "2025-07-12T00:40:40.879854Z",
     "shell.execute_reply.started": "2025-07-12T00:40:40.861023Z"
    },
    "trusted": true
   },
   "outputs": [
    {
     "name": "stdout",
     "output_type": "stream",
     "text": [
      "<class 'pandas.core.series.Series'>\n",
      "Index: 602 entries, 0 to 912\n",
      "Series name: target\n",
      "Non-Null Count  Dtype\n",
      "--------------  -----\n",
      "602 non-null    int64\n",
      "dtypes: int64(1)\n",
      "memory usage: 9.4 KB\n"
     ]
    }
   ],
   "source": [
    "y.info()"
   ]
  },
  {
   "cell_type": "code",
   "execution_count": 126,
   "metadata": {
    "execution": {
     "iopub.execute_input": "2025-07-12T00:40:40.884507Z",
     "iopub.status.busy": "2025-07-12T00:40:40.884181Z",
     "iopub.status.idle": "2025-07-12T00:40:40.907063Z",
     "shell.execute_reply": "2025-07-12T00:40:40.906003Z",
     "shell.execute_reply.started": "2025-07-12T00:40:40.884484Z"
    },
    "trusted": true
   },
   "outputs": [],
   "source": [
    "from sklearn.preprocessing import StandardScaler\n",
    "\n",
    "scaler = StandardScaler()\n",
    "scaler.fit(X_train)\n",
    "X_train = scaler.transform(X_train)\n",
    "X_test = scaler.transform(X_test)\n"
   ]
  },
  {
   "cell_type": "code",
   "execution_count": 127,
   "metadata": {
    "execution": {
     "iopub.execute_input": "2025-07-12T00:40:40.908574Z",
     "iopub.status.busy": "2025-07-12T00:40:40.908260Z",
     "iopub.status.idle": "2025-07-12T00:40:40.916081Z",
     "shell.execute_reply": "2025-07-12T00:40:40.915279Z",
     "shell.execute_reply.started": "2025-07-12T00:40:40.908548Z"
    },
    "trusted": true
   },
   "outputs": [
    {
     "data": {
      "text/plain": [
       "array([[-1.16204992,  0.72499637, -1.85107282, -0.90898866, -0.67649508,\n",
       "         1.29840982, -0.2545498 , -0.46228744, -1.37014992,  0.33597227,\n",
       "        -1.01001694,  4.56589072, -1.96579244,  2.80747339,  0.89051219]])"
      ]
     },
     "execution_count": 127,
     "metadata": {},
     "output_type": "execute_result"
    }
   ],
   "source": [
    "X_train[:1]"
   ]
  },
  {
   "cell_type": "code",
   "execution_count": 128,
   "metadata": {
    "execution": {
     "iopub.execute_input": "2025-07-12T00:40:40.917342Z",
     "iopub.status.busy": "2025-07-12T00:40:40.916943Z",
     "iopub.status.idle": "2025-07-12T00:40:40.931821Z",
     "shell.execute_reply": "2025-07-12T00:40:40.931023Z",
     "shell.execute_reply.started": "2025-07-12T00:40:40.917319Z"
    },
    "trusted": true
   },
   "outputs": [],
   "source": [
    "# Choosing different neighbors to test their accuracy \n",
    "k_values = [1,5,11,16,19]"
   ]
  },
  {
   "cell_type": "code",
   "execution_count": 129,
   "metadata": {
    "execution": {
     "iopub.execute_input": "2025-07-12T00:40:40.932835Z",
     "iopub.status.busy": "2025-07-12T00:40:40.932592Z",
     "iopub.status.idle": "2025-07-12T00:40:40.950319Z",
     "shell.execute_reply": "2025-07-12T00:40:40.949465Z",
     "shell.execute_reply.started": "2025-07-12T00:40:40.932816Z"
    },
    "trusted": true
   },
   "outputs": [
    {
     "data": {
      "text/plain": [
       "array([[False, False, False, ..., False, False, False],\n",
       "       [False, False, False, ..., False, False, False],\n",
       "       [False, False, False, ..., False, False, False],\n",
       "       ...,\n",
       "       [False, False, False, ..., False, False, False],\n",
       "       [False, False, False, ..., False, False, False],\n",
       "       [False, False, False, ..., False, False, False]])"
      ]
     },
     "execution_count": 129,
     "metadata": {},
     "output_type": "execute_result"
    }
   ],
   "source": [
    "np.isnan(X_train)"
   ]
  },
  {
   "cell_type": "code",
   "execution_count": 130,
   "metadata": {
    "execution": {
     "iopub.execute_input": "2025-07-12T00:40:40.951728Z",
     "iopub.status.busy": "2025-07-12T00:40:40.951501Z",
     "iopub.status.idle": "2025-07-12T00:40:41.071907Z",
     "shell.execute_reply": "2025-07-12T00:40:41.071095Z",
     "shell.execute_reply.started": "2025-07-12T00:40:40.951711Z"
    },
    "trusted": true
   },
   "outputs": [],
   "source": [
    "knn_results = {}\n",
    "\n",
    "from sklearn.neighbors import KNeighborsClassifier\n",
    "from sklearn.neighbors import RadiusNeighborsClassifier\n",
    "from sklearn.metrics import accuracy_score\n",
    "\n",
    "# Train KNN models with different k values\n",
    "for k in k_values:\n",
    "    knn_model = KNeighborsClassifier(n_neighbors=k)\n",
    "    knn_model.fit(X_train, y_train)\n",
    "    y_pred = knn_model.predict(X_test)\n",
    "    accuracy = accuracy_score(y_test, y_pred)\n",
    "    knn_results[k] = accuracy"
   ]
  }
 ],
 "metadata": {
  "colab": {
   "provenance": []
  },
  "kaggle": {
   "accelerator": "none",
   "dataSources": [
    {
     "datasetId": 792,
     "sourceId": 3538,
     "sourceType": "datasetVersion"
    },
    {
     "datasetId": 74977,
     "sourceId": 169835,
     "sourceType": "datasetVersion"
    },
    {
     "datasetId": 888463,
     "sourceId": 1508992,
     "sourceType": "datasetVersion"
    },
    {
     "datasetId": 1546318,
     "sourceId": 2549419,
     "sourceType": "datasetVersion"
    }
   ],
   "dockerImageVersionId": 31089,
   "isGpuEnabled": false,
   "isInternetEnabled": true,
   "language": "python",
   "sourceType": "notebook"
  },
  "kernelspec": {
   "display_name": "3.9.7",
   "language": "python",
   "name": "python3"
  },
  "language_info": {
   "codemirror_mode": {
    "name": "ipython",
    "version": 3
   },
   "file_extension": ".py",
   "mimetype": "text/x-python",
   "name": "python",
   "nbconvert_exporter": "python",
   "pygments_lexer": "ipython3",
   "version": "3.9.7"
  }
 },
 "nbformat": 4,
 "nbformat_minor": 4
}
