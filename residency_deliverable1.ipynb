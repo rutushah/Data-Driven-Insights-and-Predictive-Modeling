{
  "cells": [
    {
      "cell_type": "markdown",
      "metadata": {},
      "source": [
        "# Residency Project Deliverable: 1\n",
        "# Rutu Shah\n",
        "# Nischal Joshi\n",
        "# Murali Krishna\n",
        "# Santhosh Ramachandran "
      ]
    },
    {
      "cell_type": "code",
      "execution_count": 12,
      "metadata": {
        "colab": {
          "base_uri": "https://localhost:8080/",
          "height": 74
        },
        "id": "YXAs8SoBiujn",
        "outputId": "ba0beb94-a355-4592-daac-fc7161c2bf5c"
      },
      "outputs": [],
      "source": [
        "import pandas as pd\n"
      ]
    },
    {
      "cell_type": "code",
      "execution_count": 14,
      "metadata": {
        "colab": {
          "base_uri": "https://localhost:8080/"
        },
        "id": "gUA5roh5i0oT",
        "outputId": "a8b5e292-9aff-450c-d074-f1fcb73bc794"
      },
      "outputs": [],
      "source": [
        "df = pd.read_csv('The Titanic dataset.csv')"
      ]
    },
    {
      "cell_type": "code",
      "execution_count": 13,
      "metadata": {},
      "outputs": [
        {
          "name": "stdout",
          "output_type": "stream",
          "text": [
            "Printing head()\n",
            "     1       2         3                            4       5    6       7  \\\n",
            "0  sn  pclass  survived                          NaN  gender  age  family   \n",
            "1   1       3         0                  Mr. Anthony    male   42       0   \n",
            "2   1       3         0                  Mr. Anthony    male   42       0   \n",
            "3   2       3         0        Master. Eugene Joseph    male    ?       2   \n",
            "4   3       2         0  Abbott, Mr. Rossmore Edward     NaN  NaN       2   \n",
            "\n",
            "       8         9         10  \n",
            "0   fare  embarked       date  \n",
            "1   7.55       NaN  01-Jan-90  \n",
            "2   7.55       NaN  01-Jan-90  \n",
            "3  20.25         S  02-Jan-90  \n",
            "4     **         S  03-Jan-90  \n",
            "Printing describe()\n",
            "            1     2     3            4     5     6     7     8     9         10\n",
            "count   1302  1302  1302         1301  1301  1045  1300  1300  1296       1302\n",
            "unique  1301     4     3         1297     3    98    10   283     4       1301\n",
            "top        1     3     0  Mr. Anthony  male    24     0    13     S  01-Jan-90\n",
            "freq       2   700   801            2   835    47   781    59   905          2\n",
            "<class 'pandas.core.frame.DataFrame'>\n",
            "RangeIndex: 1302 entries, 0 to 1301\n",
            "Data columns (total 10 columns):\n",
            " #   Column  Non-Null Count  Dtype \n",
            "---  ------  --------------  ----- \n",
            " 0   1       1302 non-null   object\n",
            " 1   2       1302 non-null   object\n",
            " 2   3       1302 non-null   object\n",
            " 3   4       1301 non-null   object\n",
            " 4   5       1301 non-null   object\n",
            " 5   6       1045 non-null   object\n",
            " 6   7       1300 non-null   object\n",
            " 7   8       1300 non-null   object\n",
            " 8   9       1296 non-null   object\n",
            " 9   10      1302 non-null   object\n",
            "dtypes: object(10)\n",
            "memory usage: 101.8+ KB\n",
            "Printing info()\n",
            " None\n"
          ]
        }
      ],
      "source": [
        "\n",
        "\n",
        "#explore the dataset\n",
        "print(\"Printing head()\\n\", df.head())\n",
        "print(\"Printing describe()\\n\", df.describe())\n",
        "print(\"Printing info()\\n\", df.info())\n"
      ]
    },
    {
      "cell_type": "code",
      "execution_count": 8,
      "metadata": {
        "colab": {
          "base_uri": "https://localhost:8080/"
        },
        "id": "hv_Dy_YNi81j",
        "outputId": "f7d2c15b-3817-4f58-957f-fcc58fc08496"
      },
      "outputs": [
        {
          "name": "stdout",
          "output_type": "stream",
          "text": [
            "1       0\n",
            "2       0\n",
            "3       0\n",
            "4       1\n",
            "5       1\n",
            "6     257\n",
            "7       2\n",
            "8       2\n",
            "9       6\n",
            "10      0\n",
            "dtype: int64\n"
          ]
        }
      ],
      "source": [
        "# Check for missing values in each column\n",
        "print(df.isnull().sum())\n"
      ]
    }
  ],
  "metadata": {
    "colab": {
      "provenance": []
    },
    "kernelspec": {
      "display_name": "Python 3",
      "name": "python3"
    },
    "language_info": {
      "codemirror_mode": {
        "name": "ipython",
        "version": 3
      },
      "file_extension": ".py",
      "mimetype": "text/x-python",
      "name": "python",
      "nbconvert_exporter": "python",
      "pygments_lexer": "ipython3",
      "version": "3.13.0"
    }
  },
  "nbformat": 4,
  "nbformat_minor": 0
}
