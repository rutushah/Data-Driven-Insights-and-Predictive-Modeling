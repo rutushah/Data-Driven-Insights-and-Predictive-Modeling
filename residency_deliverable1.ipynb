{
  "cells": [
    {
      "cell_type": "markdown",
      "metadata": {},
      "source": [
        "# Residency Project Deliverable: 1\n",
        "# Rutu Shah\n",
        "# Nischal Joshi\n",
        "# Murali Krishna\n",
        "# Santhosh Ramachandran "
      ]
    },
    {
      "cell_type": "code",
      "execution_count": 75,
      "metadata": {
        "colab": {
          "base_uri": "https://localhost:8080/",
          "height": 74
        },
        "id": "YXAs8SoBiujn",
        "outputId": "ba0beb94-a355-4592-daac-fc7161c2bf5c"
      },
      "outputs": [],
      "source": [
        "import pandas as pd\n"
      ]
    },
    {
      "cell_type": "code",
      "execution_count": 76,
      "metadata": {
        "colab": {
          "base_uri": "https://localhost:8080/"
        },
        "id": "gUA5roh5i0oT",
        "outputId": "a8b5e292-9aff-450c-d074-f1fcb73bc794"
      },
      "outputs": [],
      "source": [
        "df = pd.read_csv('heart_disease_uci.csv')"
      ]
    },
    {
      "cell_type": "code",
      "execution_count": 77,
      "metadata": {},
      "outputs": [
        {
          "name": "stdout",
          "output_type": "stream",
          "text": [
            "Printing head()\n",
            "    id  age     sex    dataset               cp  trestbps   chol    fbs  \\\n",
            "0   1   63    Male  Cleveland   typical angina     145.0  233.0   True   \n",
            "1   2   67    Male  Cleveland     asymptomatic     160.0  286.0  False   \n",
            "2   3   67    Male  Cleveland     asymptomatic     120.0  229.0  False   \n",
            "3   4   37    Male  Cleveland      non-anginal     130.0  250.0  False   \n",
            "4   5   41  Female  Cleveland  atypical angina     130.0  204.0  False   \n",
            "\n",
            "          restecg  thalch  exang  oldpeak        slope   ca  \\\n",
            "0  lv hypertrophy   150.0  False      2.3  downsloping  0.0   \n",
            "1  lv hypertrophy   108.0   True      1.5         flat  3.0   \n",
            "2  lv hypertrophy   129.0   True      2.6         flat  2.0   \n",
            "3          normal   187.0  False      3.5  downsloping  0.0   \n",
            "4  lv hypertrophy   172.0  False      1.4    upsloping  0.0   \n",
            "\n",
            "                thal  num  \n",
            "0       fixed defect    0  \n",
            "1             normal    2  \n",
            "2  reversable defect    1  \n",
            "3             normal    0  \n",
            "4             normal    0  \n",
            "Printing describe()\n",
            "                id         age    trestbps        chol      thalch     oldpeak  \\\n",
            "count  920.000000  920.000000  861.000000  890.000000  865.000000  858.000000   \n",
            "mean   460.500000   53.510870  132.132404  199.130337  137.545665    0.878788   \n",
            "std    265.725422    9.424685   19.066070  110.780810   25.926276    1.091226   \n",
            "min      1.000000   28.000000    0.000000    0.000000   60.000000   -2.600000   \n",
            "25%    230.750000   47.000000  120.000000  175.000000  120.000000    0.000000   \n",
            "50%    460.500000   54.000000  130.000000  223.000000  140.000000    0.500000   \n",
            "75%    690.250000   60.000000  140.000000  268.000000  157.000000    1.500000   \n",
            "max    920.000000   77.000000  200.000000  603.000000  202.000000    6.200000   \n",
            "\n",
            "               ca         num  \n",
            "count  309.000000  920.000000  \n",
            "mean     0.676375    0.995652  \n",
            "std      0.935653    1.142693  \n",
            "min      0.000000    0.000000  \n",
            "25%      0.000000    0.000000  \n",
            "50%      0.000000    1.000000  \n",
            "75%      1.000000    2.000000  \n",
            "max      3.000000    4.000000  \n",
            "<class 'pandas.core.frame.DataFrame'>\n",
            "RangeIndex: 920 entries, 0 to 919\n",
            "Data columns (total 16 columns):\n",
            " #   Column    Non-Null Count  Dtype  \n",
            "---  ------    --------------  -----  \n",
            " 0   id        920 non-null    int64  \n",
            " 1   age       920 non-null    int64  \n",
            " 2   sex       920 non-null    object \n",
            " 3   dataset   920 non-null    object \n",
            " 4   cp        920 non-null    object \n",
            " 5   trestbps  861 non-null    float64\n",
            " 6   chol      890 non-null    float64\n",
            " 7   fbs       830 non-null    object \n",
            " 8   restecg   918 non-null    object \n",
            " 9   thalch    865 non-null    float64\n",
            " 10  exang     865 non-null    object \n",
            " 11  oldpeak   858 non-null    float64\n",
            " 12  slope     611 non-null    object \n",
            " 13  ca        309 non-null    float64\n",
            " 14  thal      434 non-null    object \n",
            " 15  num       920 non-null    int64  \n",
            "dtypes: float64(5), int64(3), object(8)\n",
            "memory usage: 115.1+ KB\n",
            "Printing info()\n",
            " None\n"
          ]
        }
      ],
      "source": [
        "\n",
        "\n",
        "#explore the dataset\n",
        "print(\"Printing head()\\n\", df.head())\n",
        "print(\"Printing describe()\\n\", df.describe())\n",
        "print(\"Printing info()\\n\", df.info())\n"
      ]
    },
    {
      "cell_type": "code",
      "execution_count": 78,
      "metadata": {
        "colab": {
          "base_uri": "https://localhost:8080/"
        },
        "id": "hv_Dy_YNi81j",
        "outputId": "f7d2c15b-3817-4f58-957f-fcc58fc08496"
      },
      "outputs": [
        {
          "name": "stdout",
          "output_type": "stream",
          "text": [
            "<bound method DataFrame.isnull of       id  age     sex        dataset               cp  trestbps   chol    fbs  \\\n",
            "0      1   63    Male      Cleveland   typical angina     145.0  233.0   True   \n",
            "1      2   67    Male      Cleveland     asymptomatic     160.0  286.0  False   \n",
            "2      3   67    Male      Cleveland     asymptomatic     120.0  229.0  False   \n",
            "3      4   37    Male      Cleveland      non-anginal     130.0  250.0  False   \n",
            "4      5   41  Female      Cleveland  atypical angina     130.0  204.0  False   \n",
            "..   ...  ...     ...            ...              ...       ...    ...    ...   \n",
            "915  916   54  Female  VA Long Beach     asymptomatic     127.0  333.0   True   \n",
            "916  917   62    Male  VA Long Beach   typical angina       NaN  139.0  False   \n",
            "917  918   55    Male  VA Long Beach     asymptomatic     122.0  223.0   True   \n",
            "918  919   58    Male  VA Long Beach     asymptomatic       NaN  385.0   True   \n",
            "919  920   62    Male  VA Long Beach  atypical angina     120.0  254.0  False   \n",
            "\n",
            "              restecg  thalch  exang  oldpeak        slope   ca  \\\n",
            "0      lv hypertrophy   150.0  False      2.3  downsloping  0.0   \n",
            "1      lv hypertrophy   108.0   True      1.5         flat  3.0   \n",
            "2      lv hypertrophy   129.0   True      2.6         flat  2.0   \n",
            "3              normal   187.0  False      3.5  downsloping  0.0   \n",
            "4      lv hypertrophy   172.0  False      1.4    upsloping  0.0   \n",
            "..                ...     ...    ...      ...          ...  ...   \n",
            "915  st-t abnormality   154.0  False      0.0          NaN  NaN   \n",
            "916  st-t abnormality     NaN    NaN      NaN          NaN  NaN   \n",
            "917  st-t abnormality   100.0  False      0.0          NaN  NaN   \n",
            "918    lv hypertrophy     NaN    NaN      NaN          NaN  NaN   \n",
            "919    lv hypertrophy    93.0   True      0.0          NaN  NaN   \n",
            "\n",
            "                  thal  num  \n",
            "0         fixed defect    0  \n",
            "1               normal    2  \n",
            "2    reversable defect    1  \n",
            "3               normal    0  \n",
            "4               normal    0  \n",
            "..                 ...  ...  \n",
            "915                NaN    1  \n",
            "916                NaN    0  \n",
            "917       fixed defect    2  \n",
            "918                NaN    0  \n",
            "919                NaN    1  \n",
            "\n",
            "[920 rows x 16 columns]>\n"
          ]
        }
      ],
      "source": [
        "# Check for missing values in each column\n",
        "print(df.isnull)\n"
      ]
    },
    {
      "cell_type": "code",
      "execution_count": 79,
      "metadata": {},
      "outputs": [
        {
          "name": "stdout",
          "output_type": "stream",
          "text": [
            "id has 0 missing value(s)\n",
            "age has 0 missing value(s)\n",
            "sex has 0 missing value(s)\n",
            "dataset has 0 missing value(s)\n",
            "cp has 0 missing value(s)\n",
            "trestbps has 59 missing value(s)\n",
            "chol has 30 missing value(s)\n",
            "fbs has 90 missing value(s)\n",
            "restecg has 2 missing value(s)\n",
            "thalch has 55 missing value(s)\n",
            "exang has 55 missing value(s)\n",
            "oldpeak has 62 missing value(s)\n",
            "slope has 309 missing value(s)\n",
            "ca has 611 missing value(s)\n",
            "thal has 486 missing value(s)\n",
            "num has 0 missing value(s)\n"
          ]
        }
      ],
      "source": [
        "for c in df.columns:\n",
        "    miss = df[c].isnull().sum()\n",
        "    print(\"{} has {} missing value(s)\".format(c,miss))"
      ]
    },
    {
      "cell_type": "code",
      "execution_count": 80,
      "metadata": {},
      "outputs": [
        {
          "name": "stdout",
          "output_type": "stream",
          "text": [
            "\n",
            "Missing values after cleaning:\n",
            "id          0\n",
            "age         0\n",
            "sex         0\n",
            "dataset     0\n",
            "cp          0\n",
            "trestbps    3\n",
            "chol        0\n",
            "fbs         0\n",
            "restecg     0\n",
            "thalch      0\n",
            "exang       0\n",
            "oldpeak     0\n",
            "slope       0\n",
            "ca          0\n",
            "thal        0\n",
            "num         0\n",
            "dtype: int64\n"
          ]
        },
        {
          "name": "stderr",
          "output_type": "stream",
          "text": [
            "/var/folders/vb/41_p0s1566n453rb6lp4pcxr0000gn/T/ipykernel_3013/36433258.py:12: FutureWarning: Series.fillna with 'method' is deprecated and will raise in a future version. Use obj.ffill() or obj.bfill() instead.\n",
            "  df['fbs'] = df['fbs'].fillna(method='ffill')\n",
            "/var/folders/vb/41_p0s1566n453rb6lp4pcxr0000gn/T/ipykernel_3013/36433258.py:12: FutureWarning: Downcasting object dtype arrays on .fillna, .ffill, .bfill is deprecated and will change in a future version. Call result.infer_objects(copy=False) instead. To opt-in to the future behavior, set `pd.set_option('future.no_silent_downcasting', True)`\n",
            "  df['fbs'] = df['fbs'].fillna(method='ffill')\n",
            "/var/folders/vb/41_p0s1566n453rb6lp4pcxr0000gn/T/ipykernel_3013/36433258.py:14: FutureWarning: Series.fillna with 'method' is deprecated and will raise in a future version. Use obj.ffill() or obj.bfill() instead.\n",
            "  df['thalch'] = df['thalch'].fillna(method='ffill')\n",
            "/var/folders/vb/41_p0s1566n453rb6lp4pcxr0000gn/T/ipykernel_3013/36433258.py:16: FutureWarning: Series.fillna with 'method' is deprecated and will raise in a future version. Use obj.ffill() or obj.bfill() instead.\n",
            "  df['exang'] = df['exang'].fillna(method='ffill')\n",
            "/var/folders/vb/41_p0s1566n453rb6lp4pcxr0000gn/T/ipykernel_3013/36433258.py:16: FutureWarning: Downcasting object dtype arrays on .fillna, .ffill, .bfill is deprecated and will change in a future version. Call result.infer_objects(copy=False) instead. To opt-in to the future behavior, set `pd.set_option('future.no_silent_downcasting', True)`\n",
            "  df['exang'] = df['exang'].fillna(method='ffill')\n",
            "/var/folders/vb/41_p0s1566n453rb6lp4pcxr0000gn/T/ipykernel_3013/36433258.py:18: FutureWarning: Series.fillna with 'method' is deprecated and will raise in a future version. Use obj.ffill() or obj.bfill() instead.\n",
            "  df['ca'] = df['ca'].fillna(method='ffill')\n",
            "/var/folders/vb/41_p0s1566n453rb6lp4pcxr0000gn/T/ipykernel_3013/36433258.py:20: FutureWarning: Series.fillna with 'method' is deprecated and will raise in a future version. Use obj.ffill() or obj.bfill() instead.\n",
            "  df['thal'] = df['thal'].fillna(method='ffill')\n",
            "/var/folders/vb/41_p0s1566n453rb6lp4pcxr0000gn/T/ipykernel_3013/36433258.py:25: FutureWarning: Series.fillna with 'method' is deprecated and will raise in a future version. Use obj.ffill() or obj.bfill() instead.\n",
            "  df['chol'] = df['chol'].fillna(method='bfill')\n"
          ]
        }
      ],
      "source": [
        "#Performing data cleaning steps\n",
        "\n",
        "#Handling missing values\n",
        "\n",
        "#dropping rows of gender having 1 missing value and family having 2 missing values\n",
        "\n",
        "df = df.dropna(subset=['slope', 'restecg'])\n",
        "\n",
        "if df['age'].isnull().sum() > 0:\n",
        "    df['age'] = df['age'].fillna(method='ffill')\n",
        "if df['fbs'].isnull().sum() > 0:\n",
        "    df['fbs'] = df['fbs'].fillna(method='ffill')\n",
        "if df['thalch'].isnull().sum() > 0:\n",
        "    df['thalch'] = df['thalch'].fillna(method='ffill')\n",
        "if df['exang'].isnull().sum() > 0:\n",
        "    df['exang'] = df['exang'].fillna(method='ffill')\n",
        "if df['ca'].isnull().sum() > 0:\n",
        "    df['ca'] = df['ca'].fillna(method='ffill')\n",
        "if df['thal'].isnull().sum() > 0:\n",
        "    df['thal'] = df['thal'].fillna(method='ffill')\n",
        "\n",
        "# If you have columns like 'chol' or 'thalach' with missing — you can fill them too\n",
        "# Here replacing *example* columns:\n",
        "if 'chol' in df.columns and df['chol'].isnull().sum() > 0:\n",
        "    df['chol'] = df['chol'].fillna(method='bfill')\n",
        "if 'thalach' in df.columns and df['thalach'].isnull().sum() > 0:\n",
        "    df['thalach'] = df['thalach'].fillna(method='bfill')\n",
        "if 'oldpeak' in df.columns and df['oldpeak'].isnull().sum() > 0:\n",
        "    df['oldpeak'] = df['oldpeak'].fillna(method='bfill')\n",
        "if 'slope' in df.columns and df['slope'].isnull().sum() > 0:\n",
        "    df['slope'] = df['slope'].fillna(method='bfill')\n",
        "if 'ca' in df.columns and df['ca'].isnull().sum() > 0:\n",
        "    df['ca'] = df['ca'].fillna(method='bfill')\n",
        "if 'thal' in df.columns and df['thal'].isnull().sum() > 0:\n",
        "    df['thal'] = df['thal'].fillna(method='bfill')\n",
        "\n",
        "\n",
        "# Check result\n",
        "print(\"\\nMissing values after cleaning:\")\n",
        "print(df.isnull().sum())"
      ]
    },
    {
      "cell_type": "code",
      "execution_count": 81,
      "metadata": {},
      "outputs": [
        {
          "name": "stdout",
          "output_type": "stream",
          "text": [
            "Duplicate rows found: 0\n"
          ]
        }
      ],
      "source": [
        "#checking for inconsistent data\n",
        "# Check duplicates\n",
        "duplicates = df.duplicated().sum()\n",
        "print(f\"Duplicate rows found: {duplicates}\")"
      ]
    },
    {
      "cell_type": "code",
      "execution_count": 82,
      "metadata": {},
      "outputs": [
        {
          "name": "stdout",
          "output_type": "stream",
          "text": [
            "Empty DataFrame\n",
            "Columns: [id, age, sex, dataset, cp, trestbps, chol, fbs, restecg, thalch, exang, oldpeak, slope, ca, thal, num]\n",
            "Index: []\n",
            "Empty DataFrame\n",
            "Columns: [id, age, sex, dataset, cp, trestbps, chol, fbs, restecg, thalch, exang, oldpeak, slope, ca, thal, num]\n",
            "Index: []\n"
          ]
        }
      ],
      "source": [
        "# Convert numeric columns\n",
        "df['age'] = pd.to_numeric(df['age'], errors='coerce')\n",
        "df['chol'] = pd.to_numeric(df['chol'], errors='coerce')\n",
        "\n",
        "# Check inconsistent values\n",
        "print(df[df['age'] < 0])  # unlikely\n",
        "print(df[df['chol'] < 0]) # unlikely"
      ]
    },
    {
      "cell_type": "code",
      "execution_count": 68,
      "metadata": {},
      "outputs": [
        {
          "name": "stdout",
          "output_type": "stream",
          "text": [
            "\n",
            "Age IQR Analysis:\n",
            "Q1: 47.0\n",
            "Q3: 60.0\n",
            "IQR: 13.0\n",
            "Lower Bound: 27.5\n",
            "Upper Bound: 79.5\n"
          ]
        }
      ],
      "source": [
        "# Detect noisy age\n",
        "Q1 = df['age'].quantile(0.25)\n",
        "Q3 = df['age'].quantile(0.75)\n",
        "IQR = Q3 - Q1\n",
        "lower = Q1 - 1.5*IQR\n",
        "upper = Q3 + 1.5*IQR\n",
        "\n",
        "df = df[(df['age'] >= lower) & (df['age'] <= upper)]\n",
        "\n",
        "print(f\"\\nAge IQR Analysis:\\nQ1: {Q1}\\nQ3: {Q3}\\nIQR: {IQR}\\nLower Bound: {lower}\\nUpper Bound: {upper}\")\n"
      ]
    },
    {
      "cell_type": "code",
      "execution_count": 83,
      "metadata": {},
      "outputs": [
        {
          "name": "stdout",
          "output_type": "stream",
          "text": [
            "Cholesterol upper bound (99th percentile): 406.7299999999999\n"
          ]
        }
      ],
      "source": [
        "# Detect noisy cholesterol\n",
        "if 'chol' in df.columns:\n",
        "    chol_upper = df['chol'].quantile(0.99)\n",
        "    df = df[df['chol'] <= chol_upper]\n",
        "    print(f\"Cholesterol upper bound (99th percentile): {chol_upper}\")\n"
      ]
    },
    {
      "cell_type": "code",
      "execution_count": 84,
      "metadata": {},
      "outputs": [
        {
          "data": {
            "image/png": "[encoded data removed]",
            "text/plain": [
              "<Figure size 800x400 with 1 Axes>"
            ]
          },
          "metadata": {},
          "output_type": "display_data"
        }
      ],
      "source": [
        "#Exploratory data analysis on Age Distribution\n",
        "plt.figure(figsize=(8,4))\n",
        "sns.histplot(df['age'], bins=30, kde=True)\n",
        "plt.title(\"Distribution of Age\")\n",
        "plt.xlabel(\"Age\")\n",
        "plt.ylabel(\"Count\")\n",
        "plt.show()\n"
      ]
    },
    {
      "cell_type": "code",
      "execution_count": 85,
      "metadata": {},
      "outputs": [
        {
          "data": {
            "image/png": "[encoded data removed]",
            "text/plain": [
              "<Figure size 800x400 with 1 Axes>"
            ]
          },
          "metadata": {},
          "output_type": "display_data"
        }
      ],
      "source": [
        "#Exploratory data analysis Cholesterol\n",
        "if 'chol' in df.columns:\n",
        "    plt.figure(figsize=(8,4))\n",
        "    sns.histplot(df['chol'], bins=30, kde=True)\n",
        "    plt.title(\"Distribution of Cholesterol\")\n",
        "    plt.xlabel(\"Cholesterol\")\n",
        "    plt.ylabel(\"Count\")\n",
        "    plt.show()"
      ]
    },
    {
      "cell_type": "code",
      "execution_count": 90,
      "metadata": {},
      "outputs": [
        {
          "name": "stdout",
          "output_type": "stream",
          "text": [
            "Index(['id', 'age', 'sex', 'dataset', 'cp', 'trestbps', 'chol', 'fbs',\n",
            "       'restecg', 'thalch', 'exang', 'oldpeak', 'slope', 'ca', 'thal',\n",
            "       'target'],\n",
            "      dtype='object')\n"
          ]
        },
        {
          "data": {
            "image/png": "[encoded data removed]",
            "text/plain": [
              "<Figure size 600x400 with 1 Axes>"
            ]
          },
          "metadata": {},
          "output_type": "display_data"
        }
      ],
      "source": [
        "# Checking the target column\n",
        "print(df.columns)\n",
        "\n",
        "#renaming it to nu,\n",
        "if 'target' not in df.columns and 'num' in df.columns:\n",
        "    df.rename(columns={'num': 'target'}, inplace=True)\n",
        "\n",
        "#converting to binary\n",
        "df['target'] = df['target'].apply(lambda x: 1 if x > 0 else 0)\n",
        "\n",
        "# Now plot\n",
        "plt.figure(figsize=(6,4))\n",
        "sns.countplot(x='sex', hue='target', data=df)\n",
        "plt.title(\"Heart Disease Counts by Sex\")\n",
        "plt.xlabel(\"Sex (1=Male, 0=Female)\")\n",
        "plt.ylabel(\"Count\")\n",
        "plt.legend(title=\"Heart Disease\", labels=[\"No\", \"Yes\"])\n",
        "plt.show()\n"
      ]
    }
  ],
  "metadata": {
    "colab": {
      "provenance": []
    },
    "kernelspec": {
      "display_name": "Python 3",
      "name": "python3"
    },
    "language_info": {
      "codemirror_mode": {
        "name": "ipython",
        "version": 3
      },
      "file_extension": ".py",
      "mimetype": "text/x-python",
      "name": "python",
      "nbconvert_exporter": "python",
      "pygments_lexer": "ipython3",
      "version": "3.13.0"
    }
  },
  "nbformat": 4,
  "nbformat_minor": 0
}
