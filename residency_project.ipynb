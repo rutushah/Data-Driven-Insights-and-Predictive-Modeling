{
 "cells": [
  {
   "cell_type": "code",
   "execution_count": null,
   "id": "1e81c7ef-3671-4f54-a134-b35933d5d1fc",
   "metadata": {},
   "outputs": [],
   "source": [
    "# Residency Project Deliverable: 1\n",
    "# Rutu Shah\n",
    "# Nischal Joshi\n",
    "# Murali Krishna\n",
    "# Santhosh Ramachandran "
   ]
  }
 ],
 "metadata": {
  "kernelspec": {
   "display_name": "Python (base)",
   "language": "python",
   "name": "base"
  },
  "language_info": {
   "codemirror_mode": {
    "name": "ipython",
    "version": 3
   },
   "file_extension": ".py",
   "mimetype": "text/x-python",
   "name": "python",
   "nbconvert_exporter": "python",
   "pygments_lexer": "ipython3",
   "version": "3.12.7"
  }
 },
 "nbformat": 4,
 "nbformat_minor": 5
}
